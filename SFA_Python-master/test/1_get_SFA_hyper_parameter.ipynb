{
 "cells": [
  {
   "cell_type": "code",
   "execution_count": 2,
   "metadata": {},
   "outputs": [
    {
     "name": "stdout",
     "output_type": "stream",
     "text": [
      "Done reading ECG200 Training Data...  Samples: 100   Length: 96\n",
      "Done reading ECG200 Testing Data...  Samples: 100   Length: 96\n",
      "\n",
      "ECG200  Fitting for a norm of True\n"
     ]
    },
    {
     "name": "stderr",
     "output_type": "stream",
     "text": [
      " 11% (10 of 86) |##                      | Elapsed Time: 0:00:12 ETA:   0:01:28\n",
      " 26% (23 of 86) |######                  | Elapsed Time: 0:00:25 ETA:   0:01:09"
     ]
    },
    {
     "ename": "KeyboardInterrupt",
     "evalue": "",
     "output_type": "error",
     "traceback": [
      "\u001b[0;31m---------------------------------------------------------------------------\u001b[0m",
      "\u001b[0;31mKeyboardInterrupt\u001b[0m                         Traceback (most recent call last)",
      "Cell \u001b[0;32mIn[2], line 82\u001b[0m\n\u001b[1;32m     80\u001b[0m sentence \u001b[38;5;241m=\u001b[39m \u001b[38;5;124m'\u001b[39m\u001b[38;5;124mrunning at \u001b[39m\u001b[38;5;124m'\u001b[39m\u001b[38;5;241m+\u001b[39mname\n\u001b[1;32m     81\u001b[0m save_to_log(sentence, \u001b[38;5;124m'\u001b[39m\u001b[38;5;124mRunning_log\u001b[39m\u001b[38;5;124m'\u001b[39m)\n\u001b[0;32m---> 82\u001b[0m \u001b[43mobtain_boss_feature_and_save_model\u001b[49m\u001b[43m(\u001b[49m\u001b[43mname\u001b[49m\u001b[43m)\u001b[49m\n",
      "Cell \u001b[0;32mIn[2], line 68\u001b[0m, in \u001b[0;36mobtain_boss_feature_and_save_model\u001b[0;34m(name)\u001b[0m\n\u001b[1;32m     66\u001b[0m train, test \u001b[38;5;241m=\u001b[39m uv_load(name)\n\u001b[1;32m     67\u001b[0m boss \u001b[38;5;241m=\u001b[39m BOSSEnsembleClassifier(name)\n\u001b[0;32m---> 68\u001b[0m scores \u001b[38;5;241m=\u001b[39m \u001b[43mboss\u001b[49m\u001b[38;5;241;43m.\u001b[39;49m\u001b[43mfit\u001b[49m\u001b[43m(\u001b[49m\u001b[43mtrain\u001b[49m\u001b[43m)\u001b[49m\n\u001b[1;32m     69\u001b[0m \u001b[38;5;28mprint\u001b[39m(\u001b[38;5;124m'\u001b[39m\u001b[38;5;124mboss fit scores = \u001b[39m\u001b[38;5;124m'\u001b[39m,scores)\n\u001b[1;32m     70\u001b[0m models \u001b[38;5;241m=\u001b[39m boss\u001b[38;5;241m.\u001b[39mmodel\n",
      "File \u001b[0;32m~/Downloads/DPSN-master/SFA_Python-master/src/classification/BOSSEnsembleClassifier.py:44\u001b[0m, in \u001b[0;36mBOSSEnsembleClassifier.fit\u001b[0;34m(self, train)\u001b[0m\n\u001b[1;32m     41\u001b[0m bestScore \u001b[39m=\u001b[39m \u001b[39mNone\u001b[39;00m\n\u001b[1;32m     43\u001b[0m \u001b[39mfor\u001b[39;00m norm \u001b[39min\u001b[39;00m NORMALIZATION:\n\u001b[0;32m---> 44\u001b[0m     models, correctTraining \u001b[39m=\u001b[39m \u001b[39mself\u001b[39;49m\u001b[39m.\u001b[39;49mfitEnsemble(norm, train)\n\u001b[1;32m     45\u001b[0m     labels, correctTesting \u001b[39m=\u001b[39m \u001b[39mself\u001b[39m\u001b[39m.\u001b[39mpredict(models, train)\n\u001b[1;32m     47\u001b[0m     \u001b[39mif\u001b[39;00m bestCorrectTraining \u001b[39m<\u001b[39m correctTesting:\n",
      "File \u001b[0;32m~/Downloads/DPSN-master/SFA_Python-master/src/classification/BOSSEnsembleClassifier.py:83\u001b[0m, in \u001b[0;36mBOSSEnsembleClassifier.fitEnsemble\u001b[0;34m(self, NormMean, samples)\u001b[0m\n\u001b[1;32m     81\u001b[0m \u001b[39mprint\u001b[39m(\u001b[39mself\u001b[39m\u001b[39m.\u001b[39mNAME \u001b[39m+\u001b[39m \u001b[39m\"\u001b[39m\u001b[39m  Fitting for a norm of \u001b[39m\u001b[39m\"\u001b[39m \u001b[39m+\u001b[39m \u001b[39mstr\u001b[39m(NormMean))\n\u001b[1;32m     82\u001b[0m \u001b[39mwith\u001b[39;00m progressbar\u001b[39m.\u001b[39mProgressBar(max_value\u001b[39m=\u001b[39m\u001b[39mlen\u001b[39m(\u001b[39mself\u001b[39m\u001b[39m.\u001b[39mwindows)) \u001b[39mas\u001b[39;00m bar:\n\u001b[0;32m---> 83\u001b[0m     Parallel(n_jobs\u001b[39m=\u001b[39;49m\u001b[39m12\u001b[39;49m, backend\u001b[39m=\u001b[39;49m\u001b[39m\"\u001b[39;49m\u001b[39mthreading\u001b[39;49m\u001b[39m\"\u001b[39;49m)(delayed(\u001b[39mself\u001b[39;49m\u001b[39m.\u001b[39;49mfitIndividual, check_pickle\u001b[39m=\u001b[39;49m\u001b[39mFalse\u001b[39;49;00m)(NormMean, samples, i, bar) \u001b[39mfor\u001b[39;49;00m i \u001b[39min\u001b[39;49;00m \u001b[39mrange\u001b[39;49m(\u001b[39mlen\u001b[39;49m(\u001b[39mself\u001b[39;49m\u001b[39m.\u001b[39;49mwindows)))\n\u001b[1;32m     84\u001b[0m \u001b[39mprint\u001b[39m()\n\u001b[1;32m     86\u001b[0m \u001b[39m#Find best correctTraining\u001b[39;00m\n",
      "File \u001b[0;32m~/opt/anaconda3/envs/cse446/lib/python3.8/site-packages/joblib/parallel.py:1061\u001b[0m, in \u001b[0;36mParallel.__call__\u001b[0;34m(self, iterable)\u001b[0m\n\u001b[1;32m   1058\u001b[0m     \u001b[39mself\u001b[39m\u001b[39m.\u001b[39m_iterating \u001b[39m=\u001b[39m \u001b[39mFalse\u001b[39;00m\n\u001b[1;32m   1060\u001b[0m \u001b[39mwith\u001b[39;00m \u001b[39mself\u001b[39m\u001b[39m.\u001b[39m_backend\u001b[39m.\u001b[39mretrieval_context():\n\u001b[0;32m-> 1061\u001b[0m     \u001b[39mself\u001b[39;49m\u001b[39m.\u001b[39;49mretrieve()\n\u001b[1;32m   1062\u001b[0m \u001b[39m# Make sure that we get a last message telling us we are done\u001b[39;00m\n\u001b[1;32m   1063\u001b[0m elapsed_time \u001b[39m=\u001b[39m time\u001b[39m.\u001b[39mtime() \u001b[39m-\u001b[39m \u001b[39mself\u001b[39m\u001b[39m.\u001b[39m_start_time\n",
      "File \u001b[0;32m~/opt/anaconda3/envs/cse446/lib/python3.8/site-packages/joblib/parallel.py:940\u001b[0m, in \u001b[0;36mParallel.retrieve\u001b[0;34m(self)\u001b[0m\n\u001b[1;32m    938\u001b[0m \u001b[39mtry\u001b[39;00m:\n\u001b[1;32m    939\u001b[0m     \u001b[39mif\u001b[39;00m \u001b[39mgetattr\u001b[39m(\u001b[39mself\u001b[39m\u001b[39m.\u001b[39m_backend, \u001b[39m'\u001b[39m\u001b[39msupports_timeout\u001b[39m\u001b[39m'\u001b[39m, \u001b[39mFalse\u001b[39;00m):\n\u001b[0;32m--> 940\u001b[0m         \u001b[39mself\u001b[39m\u001b[39m.\u001b[39m_output\u001b[39m.\u001b[39mextend(job\u001b[39m.\u001b[39;49mget(timeout\u001b[39m=\u001b[39;49m\u001b[39mself\u001b[39;49m\u001b[39m.\u001b[39;49mtimeout))\n\u001b[1;32m    941\u001b[0m     \u001b[39melse\u001b[39;00m:\n\u001b[1;32m    942\u001b[0m         \u001b[39mself\u001b[39m\u001b[39m.\u001b[39m_output\u001b[39m.\u001b[39mextend(job\u001b[39m.\u001b[39mget())\n",
      "File \u001b[0;32m~/opt/anaconda3/envs/cse446/lib/python3.8/multiprocessing/pool.py:765\u001b[0m, in \u001b[0;36mApplyResult.get\u001b[0;34m(self, timeout)\u001b[0m\n\u001b[1;32m    764\u001b[0m \u001b[39mdef\u001b[39;00m \u001b[39mget\u001b[39m(\u001b[39mself\u001b[39m, timeout\u001b[39m=\u001b[39m\u001b[39mNone\u001b[39;00m):\n\u001b[0;32m--> 765\u001b[0m     \u001b[39mself\u001b[39;49m\u001b[39m.\u001b[39;49mwait(timeout)\n\u001b[1;32m    766\u001b[0m     \u001b[39mif\u001b[39;00m \u001b[39mnot\u001b[39;00m \u001b[39mself\u001b[39m\u001b[39m.\u001b[39mready():\n\u001b[1;32m    767\u001b[0m         \u001b[39mraise\u001b[39;00m \u001b[39mTimeoutError\u001b[39;00m\n",
      "File \u001b[0;32m~/opt/anaconda3/envs/cse446/lib/python3.8/multiprocessing/pool.py:762\u001b[0m, in \u001b[0;36mApplyResult.wait\u001b[0;34m(self, timeout)\u001b[0m\n\u001b[1;32m    761\u001b[0m \u001b[39mdef\u001b[39;00m \u001b[39mwait\u001b[39m(\u001b[39mself\u001b[39m, timeout\u001b[39m=\u001b[39m\u001b[39mNone\u001b[39;00m):\n\u001b[0;32m--> 762\u001b[0m     \u001b[39mself\u001b[39;49m\u001b[39m.\u001b[39;49m_event\u001b[39m.\u001b[39;49mwait(timeout)\n",
      "File \u001b[0;32m~/opt/anaconda3/envs/cse446/lib/python3.8/threading.py:558\u001b[0m, in \u001b[0;36mEvent.wait\u001b[0;34m(self, timeout)\u001b[0m\n\u001b[1;32m    556\u001b[0m signaled \u001b[39m=\u001b[39m \u001b[39mself\u001b[39m\u001b[39m.\u001b[39m_flag\n\u001b[1;32m    557\u001b[0m \u001b[39mif\u001b[39;00m \u001b[39mnot\u001b[39;00m signaled:\n\u001b[0;32m--> 558\u001b[0m     signaled \u001b[39m=\u001b[39m \u001b[39mself\u001b[39;49m\u001b[39m.\u001b[39;49m_cond\u001b[39m.\u001b[39;49mwait(timeout)\n\u001b[1;32m    559\u001b[0m \u001b[39mreturn\u001b[39;00m signaled\n",
      "File \u001b[0;32m~/opt/anaconda3/envs/cse446/lib/python3.8/threading.py:302\u001b[0m, in \u001b[0;36mCondition.wait\u001b[0;34m(self, timeout)\u001b[0m\n\u001b[1;32m    300\u001b[0m \u001b[39mtry\u001b[39;00m:    \u001b[39m# restore state no matter what (e.g., KeyboardInterrupt)\u001b[39;00m\n\u001b[1;32m    301\u001b[0m     \u001b[39mif\u001b[39;00m timeout \u001b[39mis\u001b[39;00m \u001b[39mNone\u001b[39;00m:\n\u001b[0;32m--> 302\u001b[0m         waiter\u001b[39m.\u001b[39;49macquire()\n\u001b[1;32m    303\u001b[0m         gotit \u001b[39m=\u001b[39m \u001b[39mTrue\u001b[39;00m\n\u001b[1;32m    304\u001b[0m     \u001b[39melse\u001b[39;00m:\n",
      "\u001b[0;31mKeyboardInterrupt\u001b[0m: "
     ]
    }
   ],
   "source": [
    "import sys\n",
    "import os\n",
    "from sklearn import preprocessing\n",
    "sys.path.append(os.getcwd()[:-5])\n",
    "from src.timeseries.TimeSeriesLoader import uv_load\n",
    "from  src.classification.BOSSEnsembleClassifier import *\n",
    "import pickle\n",
    "from scipy.sparse import csr_matrix\n",
    "import numpy as np\n",
    "\n",
    "\n",
    "def save_to_log(sentence,dataset_name):\n",
    "    father_path = './BOSS_feature_Data/' + dataset_name\n",
    "    if not os.path.exists(father_path):\n",
    "        os.makedirs(father_path)\n",
    "    path = father_path+ '/' +dataset_name+ '_hyper_parameter_log.txt'\n",
    "    with open(path, \"a\") as myfile:\n",
    "        myfile.write(sentence+'\\n')\n",
    "\n",
    "\n",
    "def BOSS_feature_data_writer(dataset_name, X_train_feature, y_train, X_test_feature, y_test, test_accuracy):\n",
    "    father_path = './BOSS_feature_Data/' + dataset_name\n",
    "    if not os.path.exists(father_path):\n",
    "        os.makedirs(father_path)\n",
    "        \n",
    "\n",
    "    dictionary = {'X_train_feature': X_train_feature,\n",
    "                  'y_train': y_train,\n",
    "                  'X_test_feature': X_test_feature,\n",
    "                  'y_test': y_test,\n",
    "                  'Boss_accuracy': test_accuracy}\n",
    "    save_path = father_path + '/' + dataset_name + '.npy'\n",
    "    np.save(save_path, dictionary)\n",
    "\n",
    "\n",
    "\n",
    "def save_boss_mode(name,models):\n",
    "    father_path = os.path.join(os.getcwd(),'BOSS_model',name)\n",
    "    if not os.path.exists(father_path):\n",
    "        os.makedirs(father_path)\n",
    "    path =os.path.join(father_path,name+'_model.pkl')\n",
    "    print(path)\n",
    "    with open(path, 'wb') as output:\n",
    "        pickle.dump(models, output, pickle.HIGHEST_PROTOCOL)\n",
    "\n",
    "def load_boss_mode(name):\n",
    "    father_path = os.path.join(os.getcwd(), 'BOSS_model', name)\n",
    "    path = os.path.join(father_path, name + '_model.pkl')\n",
    "    with open(path, 'rb') as input:\n",
    "        models = pickle.load(input)\n",
    "    return models\n",
    "\n",
    "def covert_dic_to_csr_matrix(dic):\n",
    "    row = []\n",
    "    colum = []\n",
    "    value = []\n",
    "    for i in range(len(dic)):\n",
    "        for key in dic[i]:\n",
    "            row.append(i)\n",
    "            colum.append(key)\n",
    "            value.append(dic[i][key])\n",
    "    return csr_matrix((value, (row, colum)))\n",
    "\n",
    "\n",
    "def obtain_boss_feature_and_save_model(name):\n",
    "    train, test = uv_load(name)\n",
    "    boss = BOSSEnsembleClassifier(name)\n",
    "    scores = boss.fit(train)\n",
    "    print('boss fit scores = ',scores)\n",
    "    models = boss.model\n",
    "    save_boss_mode(name, models)\n",
    "\n",
    "\n",
    "name_list = [\n",
    " 'ECG200'\n",
    "]\n",
    "\n",
    "\n",
    "for name in name_list:\n",
    "    sentence = 'running at '+name\n",
    "    save_to_log(sentence, 'Running_log')\n",
    "    obtain_boss_feature_and_save_model(name)\n",
    "\n"
   ]
  },
  {
   "cell_type": "code",
   "execution_count": null,
   "metadata": {},
   "outputs": [],
   "source": []
  },
  {
   "cell_type": "code",
   "execution_count": null,
   "metadata": {},
   "outputs": [
    {
     "ename": "",
     "evalue": "",
     "output_type": "error",
     "traceback": [
      "\u001b[1;31mRunning cells with 'Python 3.8.10 ('cse446')' requires ipykernel package.\n",
      "\u001b[1;31mRun the following command to install 'ipykernel' into the Python environment. \n",
      "\u001b[1;31mCommand: 'conda install -n cse446 ipykernel --update-deps --force-reinstall'"
     ]
    }
   ],
   "source": []
  }
 ],
 "metadata": {
  "kernelspec": {
   "display_name": "Python 3.8.10 ('cse446')",
   "language": "python",
   "name": "python3"
  },
  "language_info": {
   "codemirror_mode": {
    "name": "ipython",
    "version": 3
   },
   "file_extension": ".py",
   "mimetype": "text/x-python",
   "name": "python",
   "nbconvert_exporter": "python",
   "pygments_lexer": "ipython3",
   "version": "3.8.10"
  },
  "vscode": {
   "interpreter": {
    "hash": "162e4a2e1e330d56b53b970256968cee85d8670931736d506ee826cfb120107b"
   }
  }
 },
 "nbformat": 4,
 "nbformat_minor": 2
}
